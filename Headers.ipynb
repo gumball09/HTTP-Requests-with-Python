{
 "cells": [
  {
   "cell_type": "code",
   "execution_count": 17,
   "id": "2cc4370a",
   "metadata": {},
   "outputs": [],
   "source": [
    "import requests\n",
    "from pprint import pprint"
   ]
  },
  {
   "cell_type": "code",
   "execution_count": 2,
   "id": "52e22c35",
   "metadata": {},
   "outputs": [],
   "source": [
    "url = 'http://swapi.co/api/people/3'"
   ]
  },
  {
   "cell_type": "code",
   "execution_count": 4,
   "id": "844a7ad6",
   "metadata": {},
   "outputs": [],
   "source": [
    "headers = {'user-agent': 'Googlechrome'} # customize headers"
   ]
  },
  {
   "cell_type": "code",
   "execution_count": 5,
   "id": "12e85c4b",
   "metadata": {},
   "outputs": [],
   "source": [
    "resp = requests.get(url, headers = headers)"
   ]
  },
  {
   "cell_type": "code",
   "execution_count": 6,
   "id": "c2c2ac45",
   "metadata": {},
   "outputs": [
    {
     "data": {
      "text/plain": [
       "{'Content-Type': 'text/html; charset=utf-8', 'Transfer-Encoding': 'chunked', 'Connection': 'keep-alive', 'Date': 'Thu, 03 Feb 2022 22:40:36 GMT', 'Content-Security-Policy': \"base-uri 'none';child-src 'self' *.pipedream.com www.youtube.com player.vimeo.com fast.wistia.net blob:;connect-src 'self' *.pipedream.com *.m.pipedream.net wss://*.pipedream.com *.fullstory.com api.cloudinary.com o210198.ingest.sentry.io https://*.logs.datadoghq.com www.google-analytics.com https://ampcid.google.com https://stats.g.doubleclick.net/j/collect https://*.logrocket.io https://*.lr-ingest.io https://*.logrocket.com https://*.lr-in.com https://fast.appcues.com https://api.appcues.net wss://api.appcues.net https://vulpix.appcues.com https://appcues-content-api-prod.herokuapp.com https://nh436jpc4i.execute-api.us-west-2.amazonaws.com https://104cl9psz3.execute-api.us-west-2.amazonaws.com https://appcues-quickstart.s3-us-west-2.amazonaws.com https://api.s.pipedream.net https://cdn.s.pipedream.net https://*.algolia.net *.google.com https://stats.g.doubleclick.net https://pipedream-production-workflow-attachments.s3.amazonaws.com;default-src 'none';font-src 'self' *.pipedream.com data: fonts.gstatic.com;frame-src 'self' *.pipedream.com https://www.youtube.com/ www.googletagmanager.com https://my.appcues.com https://js.stripe.com accounts.google.com https://bid.g.doubleclick.net;img-src * data: blob:;media-src 'self' *.pipedream.com res.cloudinary.com;object-src 'self' data:;script-src 'self' *.pipedream.com 'nonce-9359506151367447' 'strict-dynamic' 'unsafe-eval' 'unsafe-inline' 'sha256-MS6/3FCg4WjP9gwgaBGwLpRCY6fZBgwmhVCdrPrNf3E=' 'sha256-tQjf8gvb2ROOMapIxFvFAYBeUJ0v1HCbOcSmDNXGtDo=' 'sha256-T9h4ixy0FtNsCwAyTfBtIY6uV5ZhMeNQIlL42GAKEME=' tagmanager.google.com googletagmanager.com www.googletagmanager.com stats.g.doubleclick.net google-analytics.com https://ssl.google-analytics.com www.google-analytics.com https://cdn.logrocket.io https://cdn.lr-ingest.io https://cdn.lr-in.com https://fast.appcues.com https://my.appcues.com https://appcues-quickstart.s3-us-west-2.amazonaws.com https://cdn.s.pipedream.net https://js.stripe.com accounts.google.com https://www.googleadservices.com https://googleads.g.doubleclick.net https://www.google.com;style-src 'self' *.pipedream.com 'unsafe-inline' tagmanager.google.com fonts.googleapis.com https://fast.appcues.com https://fonts.googleapis.com accounts.google.com;worker-src 'self' *.pipedream.com data: blob:;form-action 'none';frame-ancestors 'none';report-uri https://o210198.ingest.sentry.io/api/5660875/security/?sentry_key=97aa41261e6e462d93e454687a0d01f2&sentry_environment=production&sentry_release=frontend-canary-server%400c4fd5eaf8224880139415413d9600b890c17b4f\", 'X-DNS-Prefetch-Control': 'off', 'Expect-CT': 'max-age=0', 'X-Frame-Options': 'SAMEORIGIN', 'Strict-Transport-Security': 'max-age=15552000', 'X-Download-Options': 'noopen', 'X-Content-Type-Options': 'nosniff', 'X-Permitted-Cross-Domain-Policies': 'none', 'Referrer-Policy': 'no-referrer-when-downgrade', 'X-XSS-Protection': '0', 'Vary': 'Accept-Encoding', 'Content-Encoding': 'gzip', 'X-Cache': 'Miss from cloudfront', 'Via': '1.1 fda3b2797d2719576f6b916583a28e52.cloudfront.net (CloudFront)', 'X-Amz-Cf-Pop': 'SEA19-C2', 'X-Amz-Cf-Id': 'wWm3itykp_ecwAwLVUCW2TT_DQxex1k8otyk68iW6N0MP0CryJmTxQ=='}"
      ]
     },
     "execution_count": 6,
     "metadata": {},
     "output_type": "execute_result"
    }
   ],
   "source": [
    "resp.headers"
   ]
  },
  {
   "cell_type": "code",
   "execution_count": 7,
   "id": "383c978c",
   "metadata": {},
   "outputs": [
    {
     "data": {
      "text/plain": [
       "'text/html; charset=utf-8'"
      ]
     },
     "execution_count": 7,
     "metadata": {},
     "output_type": "execute_result"
    }
   ],
   "source": [
    "resp.headers['content-type']"
   ]
  },
  {
   "cell_type": "code",
   "execution_count": 8,
   "id": "95b56505",
   "metadata": {},
   "outputs": [],
   "source": [
    "resp_obj = requests.get('https://en.wikipedia.org/wiki/Monty_Python')"
   ]
  },
  {
   "cell_type": "code",
   "execution_count": 9,
   "id": "c153e76a",
   "metadata": {},
   "outputs": [
    {
     "data": {
      "text/plain": [
       "{'date': 'Thu, 03 Feb 2022 20:33:21 GMT', 'server': 'mw1397.eqiad.wmnet', 'x-content-type-options': 'nosniff', 'p3p': 'CP=\"See https://en.wikipedia.org/wiki/Special:CentralAutoLogin/P3P for more info.\"', 'content-language': 'en', 'vary': 'Accept-Encoding,Cookie,Authorization', 'last-modified': 'Thu, 03 Feb 2022 19:07:20 GMT', 'content-type': 'text/html; charset=UTF-8', 'content-encoding': 'gzip', 'age': '7755', 'x-cache': 'cp4032 miss, cp4031 hit/1', 'x-cache-status': 'hit-front', 'server-timing': 'cache;desc=\"hit-front\", host;desc=\"cp4031\"', 'strict-transport-security': 'max-age=106384710; includeSubDomains; preload', 'report-to': '{ \"group\": \"wm_nel\", \"max_age\": 86400, \"endpoints\": [{ \"url\": \"https://intake-logging.wikimedia.org/v1/events?stream=w3c.reportingapi.network_error&schema_uri=/w3c/reportingapi/network_error/1.0.0\" }] }', 'nel': '{ \"report_to\": \"wm_nel\", \"max_age\": 86400, \"failure_fraction\": 0.05, \"success_fraction\": 0.0}', 'permissions-policy': 'interest-cohort=()', 'set-cookie': 'WMF-Last-Access=03-Feb-2022;Path=/;HttpOnly;secure;Expires=Mon, 07 Mar 2022 12:00:00 GMT, WMF-Last-Access-Global=03-Feb-2022;Path=/;Domain=.wikipedia.org;HttpOnly;secure;Expires=Mon, 07 Mar 2022 12:00:00 GMT, GeoIP=CA:BC:Burnaby:49.23:-122.96:v4; Path=/; secure; Domain=.wikipedia.org', 'x-client-ip': '2604:3d08:6d80:3000::6420', 'cache-control': 'private, s-maxage=0, max-age=0, must-revalidate', 'accept-ranges': 'bytes', 'content-length': '110808'}"
      ]
     },
     "execution_count": 9,
     "metadata": {},
     "output_type": "execute_result"
    }
   ],
   "source": [
    "resp_obj.headers"
   ]
  },
  {
   "cell_type": "code",
   "execution_count": 10,
   "id": "2e0fad3d",
   "metadata": {},
   "outputs": [],
   "source": [
    "# HOW TO ACCESS ORIGINAL REQUEST HEADERS (DEFAULT CONFIGS)"
   ]
  },
  {
   "cell_type": "code",
   "execution_count": 12,
   "id": "521b519d",
   "metadata": {},
   "outputs": [
    {
     "data": {
      "text/plain": [
       "{'User-Agent': 'python-requests/2.26.0', 'Accept-Encoding': 'gzip, deflate', 'Accept': '*/*', 'Connection': 'keep-alive'}"
      ]
     },
     "execution_count": 12,
     "metadata": {},
     "output_type": "execute_result"
    }
   ],
   "source": [
    "resp_obj.request.headers # access headers through request obj of resp_obj"
   ]
  },
  {
   "cell_type": "code",
   "execution_count": 13,
   "id": "655cc30c",
   "metadata": {},
   "outputs": [],
   "source": [
    "###"
   ]
  },
  {
   "cell_type": "code",
   "execution_count": 14,
   "id": "b4ba8c7a",
   "metadata": {},
   "outputs": [],
   "source": [
    "r = requests.get('http://httpbin.org/user-agent', headers = {'User-agent': 'Internet Explorer/2.0'})"
   ]
  },
  {
   "cell_type": "code",
   "execution_count": 15,
   "id": "56435808",
   "metadata": {},
   "outputs": [],
   "source": [
    "data = r.json()"
   ]
  },
  {
   "cell_type": "code",
   "execution_count": 18,
   "id": "3bbe3583",
   "metadata": {},
   "outputs": [
    {
     "name": "stdout",
     "output_type": "stream",
     "text": [
      "{'user-agent': 'Internet Explorer/2.0'}\n"
     ]
    }
   ],
   "source": [
    "pprint(data)"
   ]
  },
  {
   "cell_type": "code",
   "execution_count": null,
   "id": "45d6226e",
   "metadata": {},
   "outputs": [],
   "source": []
  }
 ],
 "metadata": {
  "kernelspec": {
   "display_name": "Python 3 (ipykernel)",
   "language": "python",
   "name": "python3"
  },
  "language_info": {
   "codemirror_mode": {
    "name": "ipython",
    "version": 3
   },
   "file_extension": ".py",
   "mimetype": "text/x-python",
   "name": "python",
   "nbconvert_exporter": "python",
   "pygments_lexer": "ipython3",
   "version": "3.10.2"
  }
 },
 "nbformat": 4,
 "nbformat_minor": 5
}
