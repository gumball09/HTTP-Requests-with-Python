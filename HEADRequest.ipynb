{
 "cells": [
  {
   "cell_type": "code",
   "execution_count": 1,
   "id": "0d154505",
   "metadata": {},
   "outputs": [],
   "source": [
    "import requests\n",
    "from pprint import pprint\n",
    "import webbrowser"
   ]
  },
  {
   "cell_type": "code",
   "execution_count": 6,
   "id": "ea2d8f30",
   "metadata": {},
   "outputs": [],
   "source": [
    "r_head = requests.head('http://example.com') # retrieve meta data in headers"
   ]
  },
  {
   "cell_type": "code",
   "execution_count": 4,
   "id": "d31feba0",
   "metadata": {},
   "outputs": [
    {
     "data": {
      "text/plain": [
       "200"
      ]
     },
     "execution_count": 4,
     "metadata": {},
     "output_type": "execute_result"
    }
   ],
   "source": [
    "r_head.status_code #confirm the status"
   ]
  },
  {
   "cell_type": "code",
   "execution_count": 5,
   "id": "ae3bb07a",
   "metadata": {},
   "outputs": [
    {
     "data": {
      "text/plain": [
       "''"
      ]
     },
     "execution_count": 5,
     "metadata": {},
     "output_type": "execute_result"
    }
   ],
   "source": [
    "r_head.text"
   ]
  },
  {
   "cell_type": "code",
   "execution_count": 8,
   "id": "1f27048c",
   "metadata": {},
   "outputs": [
    {
     "data": {
      "text/plain": [
       "b''"
      ]
     },
     "execution_count": 8,
     "metadata": {},
     "output_type": "execute_result"
    }
   ],
   "source": [
    "r_head.content # result is blank string, 'b' denotes the content represented in bytes"
   ]
  },
  {
   "cell_type": "code",
   "execution_count": 9,
   "id": "571788b1",
   "metadata": {},
   "outputs": [
    {
     "name": "stdout",
     "output_type": "stream",
     "text": [
      "{'Content-Encoding': 'gzip', 'Accept-Ranges': 'bytes', 'Age': '216999', 'Cache-Control': 'max-age=604800', 'Content-Type': 'text/html; charset=UTF-8', 'Date': 'Thu, 03 Feb 2022 22:17:56 GMT', 'Etag': '\"3147526947\"', 'Expires': 'Thu, 10 Feb 2022 22:17:56 GMT', 'Last-Modified': 'Thu, 17 Oct 2019 07:18:26 GMT', 'Server': 'ECS (sec/96A4)', 'X-Cache': 'HIT', 'Content-Length': '648'}\n"
     ]
    }
   ],
   "source": [
    "pprint(r_head.headers)"
   ]
  },
  {
   "cell_type": "code",
   "execution_count": 10,
   "id": "76ddf4aa",
   "metadata": {},
   "outputs": [
    {
     "name": "stdout",
     "output_type": "stream",
     "text": [
      "'648'\n"
     ]
    }
   ],
   "source": [
    "pprint(r_head.headers['content-length'])"
   ]
  },
  {
   "cell_type": "code",
   "execution_count": 11,
   "id": "2eee03a5",
   "metadata": {},
   "outputs": [
    {
     "name": "stdout",
     "output_type": "stream",
     "text": [
      "'text/html; charset=UTF-8'\n"
     ]
    }
   ],
   "source": [
    "pprint(r_head.headers['content-type'])"
   ]
  },
  {
   "cell_type": "code",
   "execution_count": null,
   "id": "b1c9fb18",
   "metadata": {},
   "outputs": [],
   "source": []
  },
  {
   "cell_type": "code",
   "execution_count": null,
   "id": "f827853e",
   "metadata": {},
   "outputs": [],
   "source": []
  }
 ],
 "metadata": {
  "kernelspec": {
   "display_name": "Python 3 (ipykernel)",
   "language": "python",
   "name": "python3"
  },
  "language_info": {
   "codemirror_mode": {
    "name": "ipython",
    "version": 3
   },
   "file_extension": ".py",
   "mimetype": "text/x-python",
   "name": "python",
   "nbconvert_exporter": "python",
   "pygments_lexer": "ipython3",
   "version": "3.10.2"
  }
 },
 "nbformat": 4,
 "nbformat_minor": 5
}
