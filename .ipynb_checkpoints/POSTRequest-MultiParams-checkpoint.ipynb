{
 "cells": [
  {
   "cell_type": "code",
   "execution_count": 3,
   "id": "51446829",
   "metadata": {},
   "outputs": [],
   "source": [
    "import requests\n",
    "from pprint import pprint\n",
    "import webbrowser"
   ]
  },
  {
   "cell_type": "code",
   "execution_count": 14,
   "id": "7a5206a4",
   "metadata": {},
   "outputs": [],
   "source": [
    "post_link = \"https://pastebin.com/api/api_post.php\""
   ]
  },
  {
   "cell_type": "code",
   "execution_count": 5,
   "id": "dbd7a258",
   "metadata": {},
   "outputs": [],
   "source": [
    "# specify payload to post to the server\n",
    "payload = \"{ 'username': 'John', 'email': 'john@john.com' }\""
   ]
  },
  {
   "cell_type": "code",
   "execution_count": 6,
   "id": "31e144b4",
   "metadata": {},
   "outputs": [],
   "source": [
    "API_KEY = \"d0Z65h8BqE5-NEIvv_W6YTBR5ieZ7Skm\""
   ]
  },
  {
   "cell_type": "code",
   "execution_count": 10,
   "id": "7feb631d",
   "metadata": {},
   "outputs": [],
   "source": [
    "parameters = {\n",
    "                'api_dev_key': API_KEY,\n",
    "                'api_option': 'paste',\n",
    "                'api_paste_code': payload,\n",
    "                'api_paste_format': 'python'\n",
    "            }"
   ]
  },
  {
   "cell_type": "code",
   "execution_count": 15,
   "id": "fe1f582a",
   "metadata": {},
   "outputs": [],
   "source": [
    "r_post = requests.post(post_link, data = parameters)"
   ]
  },
  {
   "cell_type": "code",
   "execution_count": 16,
   "id": "3a29628e",
   "metadata": {},
   "outputs": [
    {
     "name": "stdout",
     "output_type": "stream",
     "text": [
      "The request to the url was successful.\n",
      "You can find the code pasted on this link: https://pastebin.com/EyTmAUxL\n"
     ]
    }
   ],
   "source": [
    "if (r_post.status_code == 200):\n",
    "    print('The request to the url was successful.')\n",
    "    print('You can find the code pasted on this link: {}'.format(r_post.text))\n",
    "else:\n",
    "    print('The request was not successful.')"
   ]
  },
  {
   "cell_type": "code",
   "execution_count": 17,
   "id": "28f7c236",
   "metadata": {},
   "outputs": [
    {
     "data": {
      "text/plain": [
       "200"
      ]
     },
     "execution_count": 17,
     "metadata": {},
     "output_type": "execute_result"
    }
   ],
   "source": [
    "r_post.status_code"
   ]
  },
  {
   "cell_type": "code",
   "execution_count": 18,
   "id": "2ef77da7",
   "metadata": {},
   "outputs": [
    {
     "name": "stdout",
     "output_type": "stream",
     "text": [
      "https://pastebin.com/api/api_post.php\n"
     ]
    }
   ],
   "source": [
    "print(r_post.url)"
   ]
  },
  {
   "cell_type": "code",
   "execution_count": 19,
   "id": "99f8b7f4",
   "metadata": {},
   "outputs": [
    {
     "data": {
      "text/plain": [
       "'https://pastebin.com/EyTmAUxL'"
      ]
     },
     "execution_count": 19,
     "metadata": {},
     "output_type": "execute_result"
    }
   ],
   "source": [
    "r_post.text"
   ]
  },
  {
   "cell_type": "code",
   "execution_count": 21,
   "id": "f04c009a",
   "metadata": {},
   "outputs": [
    {
     "data": {
      "text/plain": [
       "True"
      ]
     },
     "execution_count": 21,
     "metadata": {},
     "output_type": "execute_result"
    }
   ],
   "source": [
    "webbrowser.open(r_post.text)"
   ]
  },
  {
   "cell_type": "code",
   "execution_count": null,
   "id": "48122f98",
   "metadata": {},
   "outputs": [],
   "source": []
  }
 ],
 "metadata": {
  "kernelspec": {
   "display_name": "Python 3 (ipykernel)",
   "language": "python",
   "name": "python3"
  },
  "language_info": {
   "codemirror_mode": {
    "name": "ipython",
    "version": 3
   },
   "file_extension": ".py",
   "mimetype": "text/x-python",
   "name": "python",
   "nbconvert_exporter": "python",
   "pygments_lexer": "ipython3",
   "version": "3.10.2"
  }
 },
 "nbformat": 4,
 "nbformat_minor": 5
}
