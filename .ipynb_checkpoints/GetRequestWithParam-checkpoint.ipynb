{
 "cells": [
  {
   "cell_type": "code",
   "execution_count": 1,
   "id": "f70883e9",
   "metadata": {},
   "outputs": [],
   "source": [
    "import requests\n",
    "import webbrowser"
   ]
  },
  {
   "cell_type": "code",
   "execution_count": 2,
   "id": "8040c68c",
   "metadata": {},
   "outputs": [],
   "source": [
    "url = \"https://wikipedia.org\""
   ]
  },
  {
   "cell_type": "code",
   "execution_count": 3,
   "id": "99758b74",
   "metadata": {},
   "outputs": [],
   "source": [
    "resp_obj = requests.get(url)"
   ]
  },
  {
   "cell_type": "code",
   "execution_count": 4,
   "id": "641c79a3",
   "metadata": {},
   "outputs": [
    {
     "name": "stdout",
     "output_type": "stream",
     "text": [
      "https://www.wikipedia.org/\n"
     ]
    }
   ],
   "source": [
    "print(resp_obj.url)"
   ]
  },
  {
   "cell_type": "code",
   "execution_count": 5,
   "id": "2fb86225",
   "metadata": {},
   "outputs": [
    {
     "data": {
      "text/plain": [
       "True"
      ]
     },
     "execution_count": 5,
     "metadata": {},
     "output_type": "execute_result"
    }
   ],
   "source": [
    "webbrowser.open(resp_obj.url)"
   ]
  },
  {
   "cell_type": "code",
   "execution_count": 6,
   "id": "c15dd100",
   "metadata": {},
   "outputs": [],
   "source": [
    "# webbrowswer.open opens a page with given url"
   ]
  },
  {
   "cell_type": "code",
   "execution_count": 7,
   "id": "9bd23c3a",
   "metadata": {},
   "outputs": [
    {
     "name": "stdout",
     "output_type": "stream",
     "text": [
      "Enter the term you need to search: skillsoft\n"
     ]
    }
   ],
   "source": [
    "search_term = input(\"Enter the term you need to search: \")"
   ]
  },
  {
   "cell_type": "code",
   "execution_count": 8,
   "id": "3f31fd69",
   "metadata": {},
   "outputs": [],
   "source": [
    "url = \"https://www.youtube.com/search\""
   ]
  },
  {
   "cell_type": "code",
   "execution_count": 9,
   "id": "b31f0f8b",
   "metadata": {},
   "outputs": [],
   "source": [
    "params = {'q': search_term}"
   ]
  },
  {
   "cell_type": "code",
   "execution_count": 10,
   "id": "d578d50c",
   "metadata": {},
   "outputs": [],
   "source": [
    "r_get = requests.get(url = url, params = params)"
   ]
  },
  {
   "cell_type": "code",
   "execution_count": 11,
   "id": "ecbb0034",
   "metadata": {},
   "outputs": [
    {
     "name": "stdout",
     "output_type": "stream",
     "text": [
      "200\n"
     ]
    }
   ],
   "source": [
    "print(r_get.status_code)"
   ]
  },
  {
   "cell_type": "code",
   "execution_count": 12,
   "id": "836189f2",
   "metadata": {},
   "outputs": [
    {
     "name": "stdout",
     "output_type": "stream",
     "text": [
      "https://www.youtube.com/results?q=skillsoft\n"
     ]
    }
   ],
   "source": [
    "print(r_get.url)"
   ]
  },
  {
   "cell_type": "code",
   "execution_count": 13,
   "id": "687392a3",
   "metadata": {},
   "outputs": [],
   "source": [
    "# open the search youtube"
   ]
  },
  {
   "cell_type": "code",
   "execution_count": 14,
   "id": "35f7a9d4",
   "metadata": {},
   "outputs": [
    {
     "data": {
      "text/plain": [
       "True"
      ]
     },
     "execution_count": 14,
     "metadata": {},
     "output_type": "execute_result"
    }
   ],
   "source": [
    "webbrowser.open(r_get.url)"
   ]
  },
  {
   "cell_type": "code",
   "execution_count": null,
   "id": "29832984",
   "metadata": {},
   "outputs": [],
   "source": []
  }
 ],
 "metadata": {
  "kernelspec": {
   "display_name": "Python 3 (ipykernel)",
   "language": "python",
   "name": "python3"
  },
  "language_info": {
   "codemirror_mode": {
    "name": "ipython",
    "version": 3
   },
   "file_extension": ".py",
   "mimetype": "text/x-python",
   "name": "python",
   "nbconvert_exporter": "python",
   "pygments_lexer": "ipython3",
   "version": "3.10.2"
  }
 },
 "nbformat": 4,
 "nbformat_minor": 5
}
