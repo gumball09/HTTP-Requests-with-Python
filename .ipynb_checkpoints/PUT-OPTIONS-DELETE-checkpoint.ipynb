{
 "cells": [
  {
   "cell_type": "code",
   "execution_count": 1,
   "id": "e3d386ae",
   "metadata": {},
   "outputs": [],
   "source": [
    "import requests\n",
    "from pprint import pprint\n",
    "import json"
   ]
  },
  {
   "cell_type": "code",
   "execution_count": 8,
   "id": "ed3e9ec1",
   "metadata": {},
   "outputs": [],
   "source": [
    "# PUT REQUEST (overwrite existing resources) (perform SETTER OPERATIONS)"
   ]
  },
  {
   "cell_type": "code",
   "execution_count": 4,
   "id": "56d63f6d",
   "metadata": {},
   "outputs": [],
   "source": [
    "r_put = requests.put('http://httpbin.org/put', data = {'key': 'value'})"
   ]
  },
  {
   "cell_type": "code",
   "execution_count": 5,
   "id": "f99e226a",
   "metadata": {},
   "outputs": [
    {
     "data": {
      "text/plain": [
       "200"
      ]
     },
     "execution_count": 5,
     "metadata": {},
     "output_type": "execute_result"
    }
   ],
   "source": [
    "r_put.status_code"
   ]
  },
  {
   "cell_type": "code",
   "execution_count": 6,
   "id": "b5aef8bb",
   "metadata": {},
   "outputs": [
    {
     "data": {
      "text/plain": [
       "requests.models.Response"
      ]
     },
     "execution_count": 6,
     "metadata": {},
     "output_type": "execute_result"
    }
   ],
   "source": [
    "type(r_put)"
   ]
  },
  {
   "cell_type": "code",
   "execution_count": 7,
   "id": "ae6f7300",
   "metadata": {},
   "outputs": [
    {
     "data": {
      "text/plain": [
       "'{\\n  \"args\": {}, \\n  \"data\": \"\", \\n  \"files\": {}, \\n  \"form\": {\\n    \"key\": \"value\"\\n  }, \\n  \"headers\": {\\n    \"Accept\": \"*/*\", \\n    \"Accept-Encoding\": \"gzip, deflate\", \\n    \"Content-Length\": \"9\", \\n    \"Content-Type\": \"application/x-www-form-urlencoded\", \\n    \"Host\": \"httpbin.org\", \\n    \"User-Agent\": \"python-requests/2.26.0\", \\n    \"X-Amzn-Trace-Id\": \"Root=1-61fc5659-6ba8893e5a85208864b517e7\"\\n  }, \\n  \"json\": null, \\n  \"origin\": \"24.80.170.179\", \\n  \"url\": \"http://httpbin.org/put\"\\n}\\n'"
      ]
     },
     "execution_count": 7,
     "metadata": {},
     "output_type": "execute_result"
    }
   ],
   "source": [
    "r_put.text"
   ]
  },
  {
   "cell_type": "code",
   "execution_count": null,
   "id": "aa1fc6ed",
   "metadata": {},
   "outputs": [],
   "source": []
  },
  {
   "cell_type": "code",
   "execution_count": 9,
   "id": "11820f41",
   "metadata": {},
   "outputs": [],
   "source": [
    "# OPTIONS REQUEST"
   ]
  },
  {
   "cell_type": "code",
   "execution_count": 10,
   "id": "20a66e3e",
   "metadata": {},
   "outputs": [],
   "source": [
    "r_options = requests.options('https://httpbin.org/get')"
   ]
  },
  {
   "cell_type": "code",
   "execution_count": 11,
   "id": "739925b7",
   "metadata": {},
   "outputs": [
    {
     "data": {
      "text/plain": [
       "requests.models.Response"
      ]
     },
     "execution_count": 11,
     "metadata": {},
     "output_type": "execute_result"
    }
   ],
   "source": [
    "type(r_options)"
   ]
  },
  {
   "cell_type": "code",
   "execution_count": 14,
   "id": "eeb89ded",
   "metadata": {},
   "outputs": [
    {
     "data": {
      "text/plain": [
       "''"
      ]
     },
     "execution_count": 14,
     "metadata": {},
     "output_type": "execute_result"
    }
   ],
   "source": [
    "r_options.text # blank string, similar to HEAD request, just to examine metadata of resources in headers"
   ]
  },
  {
   "cell_type": "code",
   "execution_count": 15,
   "id": "043b3ad1",
   "metadata": {},
   "outputs": [
    {
     "name": "stdout",
     "output_type": "stream",
     "text": [
      "{'Date': 'Thu, 03 Feb 2022 22:27:17 GMT', 'Content-Type': 'text/html; charset=utf-8', 'Content-Length': '0', 'Connection': 'keep-alive', 'Server': 'gunicorn/19.9.0', 'Allow': 'GET, OPTIONS, HEAD', 'Access-Control-Allow-Origin': '*', 'Access-Control-Allow-Credentials': 'true', 'Access-Control-Allow-Methods': 'GET, POST, PUT, DELETE, PATCH, OPTIONS', 'Access-Control-Max-Age': '3600'}\n"
     ]
    }
   ],
   "source": [
    "pprint(r_options.headers)"
   ]
  },
  {
   "cell_type": "code",
   "execution_count": null,
   "id": "6b151446",
   "metadata": {},
   "outputs": [],
   "source": []
  },
  {
   "cell_type": "code",
   "execution_count": 16,
   "id": "56d3fc40",
   "metadata": {},
   "outputs": [],
   "source": [
    "# DELETE REQUEST"
   ]
  },
  {
   "cell_type": "code",
   "execution_count": 17,
   "id": "c177933f",
   "metadata": {},
   "outputs": [],
   "source": [
    "r_delete = requests.delete('https://httpbin.org/delete')"
   ]
  },
  {
   "cell_type": "code",
   "execution_count": 18,
   "id": "6454284e",
   "metadata": {},
   "outputs": [
    {
     "data": {
      "text/plain": [
       "200"
      ]
     },
     "execution_count": 18,
     "metadata": {},
     "output_type": "execute_result"
    }
   ],
   "source": [
    "r_delete.status_code"
   ]
  },
  {
   "cell_type": "code",
   "execution_count": 19,
   "id": "5072ac28",
   "metadata": {},
   "outputs": [
    {
     "data": {
      "text/plain": [
       "requests.models.Response"
      ]
     },
     "execution_count": 19,
     "metadata": {},
     "output_type": "execute_result"
    }
   ],
   "source": [
    "type(r_delete)"
   ]
  },
  {
   "cell_type": "code",
   "execution_count": 20,
   "id": "4ac29cab",
   "metadata": {},
   "outputs": [
    {
     "data": {
      "text/plain": [
       "'{\\n  \"args\": {}, \\n  \"data\": \"\", \\n  \"files\": {}, \\n  \"form\": {}, \\n  \"headers\": {\\n    \"Accept\": \"*/*\", \\n    \"Accept-Encoding\": \"gzip, deflate\", \\n    \"Content-Length\": \"0\", \\n    \"Host\": \"httpbin.org\", \\n    \"User-Agent\": \"python-requests/2.26.0\", \\n    \"X-Amzn-Trace-Id\": \"Root=1-61fc5761-4abbd9a01d5b59c35a592faa\"\\n  }, \\n  \"json\": null, \\n  \"origin\": \"24.80.170.179\", \\n  \"url\": \"https://httpbin.org/delete\"\\n}\\n'"
      ]
     },
     "execution_count": 20,
     "metadata": {},
     "output_type": "execute_result"
    }
   ],
   "source": [
    "r_delete.text"
   ]
  },
  {
   "cell_type": "code",
   "execution_count": null,
   "id": "4dbc35c3",
   "metadata": {},
   "outputs": [],
   "source": []
  }
 ],
 "metadata": {
  "kernelspec": {
   "display_name": "Python 3 (ipykernel)",
   "language": "python",
   "name": "python3"
  },
  "language_info": {
   "codemirror_mode": {
    "name": "ipython",
    "version": 3
   },
   "file_extension": ".py",
   "mimetype": "text/x-python",
   "name": "python",
   "nbconvert_exporter": "python",
   "pygments_lexer": "ipython3",
   "version": "3.10.2"
  }
 },
 "nbformat": 4,
 "nbformat_minor": 5
}
