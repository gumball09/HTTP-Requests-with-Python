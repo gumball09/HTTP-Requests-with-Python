{
 "cells": [
  {
   "cell_type": "code",
   "execution_count": 1,
   "id": "dd8ce9f6",
   "metadata": {},
   "outputs": [],
   "source": [
    "import requests\n",
    "from pprint import pprint"
   ]
  },
  {
   "cell_type": "code",
   "execution_count": 2,
   "id": "5cb1a6e4",
   "metadata": {},
   "outputs": [],
   "source": [
    "resp_obj = requests.get('http://httpbin.org/')"
   ]
  },
  {
   "cell_type": "code",
   "execution_count": 3,
   "id": "b98590b6",
   "metadata": {},
   "outputs": [
    {
     "data": {
      "text/plain": [
       "200"
      ]
     },
     "execution_count": 3,
     "metadata": {},
     "output_type": "execute_result"
    }
   ],
   "source": [
    "resp_obj.status_code"
   ]
  },
  {
   "cell_type": "code",
   "execution_count": 4,
   "id": "7b45cfa8",
   "metadata": {},
   "outputs": [],
   "source": [
    "# ACESS ENCODING FIELD"
   ]
  },
  {
   "cell_type": "code",
   "execution_count": 5,
   "id": "161af6b1",
   "metadata": {},
   "outputs": [
    {
     "data": {
      "text/plain": [
       "'utf-8'"
      ]
     },
     "execution_count": 5,
     "metadata": {},
     "output_type": "execute_result"
    }
   ],
   "source": [
    "resp_obj.encoding"
   ]
  },
  {
   "cell_type": "code",
   "execution_count": 6,
   "id": "d73cfb1d",
   "metadata": {},
   "outputs": [],
   "source": [
    "# utf-8 means encoded in utf-8 format"
   ]
  },
  {
   "cell_type": "code",
   "execution_count": 10,
   "id": "81f137e4",
   "metadata": {},
   "outputs": [],
   "source": [
    "# RESET encoding value (configurable value)"
   ]
  },
  {
   "cell_type": "code",
   "execution_count": 9,
   "id": "7ea1f6a4",
   "metadata": {},
   "outputs": [],
   "source": [
    "resp_obj.encoding = 'ISO 8859-1' # set to legacy format "
   ]
  },
  {
   "cell_type": "code",
   "execution_count": 11,
   "id": "9203441a",
   "metadata": {},
   "outputs": [
    {
     "data": {
      "text/plain": [
       "'ISO 8859-1'"
      ]
     },
     "execution_count": 11,
     "metadata": {},
     "output_type": "execute_result"
    }
   ],
   "source": [
    "resp_obj.encoding"
   ]
  },
  {
   "cell_type": "code",
   "execution_count": 12,
   "id": "804169b1",
   "metadata": {},
   "outputs": [],
   "source": [
    "### Check if new encoding value affects the data"
   ]
  },
  {
   "cell_type": "code",
   "execution_count": 13,
   "id": "d04fb878",
   "metadata": {},
   "outputs": [],
   "source": [
    "resp_obj = requests.get('https://github.com/timeline.json')"
   ]
  },
  {
   "cell_type": "code",
   "execution_count": 14,
   "id": "b47fbdba",
   "metadata": {},
   "outputs": [
    {
     "data": {
      "text/plain": [
       "410"
      ]
     },
     "execution_count": 14,
     "metadata": {},
     "output_type": "execute_result"
    }
   ],
   "source": [
    "resp_obj.status_code"
   ]
  },
  {
   "cell_type": "code",
   "execution_count": 15,
   "id": "010b6002",
   "metadata": {},
   "outputs": [
    {
     "name": "stdout",
     "output_type": "stream",
     "text": [
      "('{\"message\":\"Hello there, wayfaring stranger. If you’re reading this then you '\n",
      " 'probably didn’t see our blog post a couple of years back announcing that '\n",
      " 'this API would go away: http://git.io/17AROg Fear not, you should be able to '\n",
      " 'get what you need from the shiny new Events API '\n",
      " 'instead.\",\"documentation_url\":\"https://docs.github.com/v3/activity/events/#list-public-events\"}')\n"
     ]
    }
   ],
   "source": [
    "pprint(resp_obj.text)"
   ]
  },
  {
   "cell_type": "code",
   "execution_count": 16,
   "id": "5009a89f",
   "metadata": {},
   "outputs": [
    {
     "data": {
      "text/plain": [
       "'utf-8'"
      ]
     },
     "execution_count": 16,
     "metadata": {},
     "output_type": "execute_result"
    }
   ],
   "source": [
    "resp_obj.encoding"
   ]
  },
  {
   "cell_type": "code",
   "execution_count": 17,
   "id": "984adb4d",
   "metadata": {},
   "outputs": [],
   "source": [
    "resp_obj.encoding = \"ISO-8859-1\""
   ]
  },
  {
   "cell_type": "code",
   "execution_count": 19,
   "id": "cb69ef7a",
   "metadata": {},
   "outputs": [
    {
     "name": "stdout",
     "output_type": "stream",
     "text": [
      "('{\"message\":\"Hello there, wayfaring stranger. If youâ\\x80\\x99re reading this '\n",
      " 'then you probably didnâ\\x80\\x99t see our blog post a couple of years back '\n",
      " 'announcing that this API would go away: http://git.io/17AROg Fear not, you '\n",
      " 'should be able to get what you need from the shiny new Events API '\n",
      " 'instead.\",\"documentation_url\":\"https://docs.github.com/v3/activity/events/#list-public-events\"}')\n"
     ]
    }
   ],
   "source": [
    "pprint(resp_obj.text)"
   ]
  },
  {
   "cell_type": "code",
   "execution_count": 20,
   "id": "d0992c18",
   "metadata": {},
   "outputs": [],
   "source": [
    "### CHANGING THE ENCODING FORMAT CHANGES THE DATA IS REPRESENTED"
   ]
  },
  {
   "cell_type": "code",
   "execution_count": null,
   "id": "3e076a63",
   "metadata": {},
   "outputs": [],
   "source": []
  },
  {
   "cell_type": "code",
   "execution_count": null,
   "id": "f6995940",
   "metadata": {},
   "outputs": [],
   "source": []
  },
  {
   "cell_type": "code",
   "execution_count": 21,
   "id": "35d5f326",
   "metadata": {},
   "outputs": [],
   "source": []
  },
  {
   "cell_type": "code",
   "execution_count": null,
   "id": "c1104f00",
   "metadata": {},
   "outputs": [],
   "source": []
  },
  {
   "cell_type": "code",
   "execution_count": null,
   "id": "70be88ad",
   "metadata": {},
   "outputs": [],
   "source": []
  },
  {
   "cell_type": "code",
   "execution_count": null,
   "id": "3b24d9ed",
   "metadata": {},
   "outputs": [],
   "source": []
  }
 ],
 "metadata": {
  "kernelspec": {
   "display_name": "Python 3 (ipykernel)",
   "language": "python",
   "name": "python3"
  },
  "language_info": {
   "codemirror_mode": {
    "name": "ipython",
    "version": 3
   },
   "file_extension": ".py",
   "mimetype": "text/x-python",
   "name": "python",
   "nbconvert_exporter": "python",
   "pygments_lexer": "ipython3",
   "version": "3.10.2"
  }
 },
 "nbformat": 4,
 "nbformat_minor": 5
}
